{
 "cells": [
  {
   "cell_type": "markdown",
   "id": "fbdbf5c1",
   "metadata": {},
   "source": [
    "# Traffic signs detection and classification with Detecto and Tensorflow \n",
    "\n",
    "### Part 1 - *Introduction and Datasets*"
   ]
  },
  {
   "cell_type": "markdown",
   "id": "51900c88",
   "metadata": {},
   "source": [
    "All the functions and visualizations I used here can be found on my GitHub page: [https://github.com/alexisvannaire/GTSRB_detect-and-predict](https://github.com/alexisvannaire/GTSRB_detect-and-predict)"
   ]
  },
  {
   "cell_type": "markdown",
   "id": "dde55c1a",
   "metadata": {},
   "source": [
    "**Libraries you'll need to have installed**"
   ]
  },
  {
   "cell_type": "markdown",
   "id": "eb24972d",
   "metadata": {},
   "source": [
    "* `os`, `pathlib`, `xml`, `shutil`, `functools`, `json`\n",
    "* `numpy`, `pandas`, `matplotlib`, `plotly`, `random`\n",
    "* `PIL`, `cv2`, `ipython`\n",
    "* `sklearn`, `tensorflow`, `detecto`, `labelImg`\n",
    "\n",
    "<br>\n",
    "\n",
    "You can find all details in the requirements.txt file if needed."
   ]
  },
  {
   "cell_type": "markdown",
   "id": "2ad0700f",
   "metadata": {},
   "source": [
    "I had needed to install `kaleido` this way because of some issues with windows, I wanted to export statics images from plotly figures [(https://plotly.com/python/static-image-export/)](https://plotly.com/python/static-image-export/) and maybe some dependencies problems:\n",
    "    \n",
    "`%pip install kaleido-0.1.0.post1-py2.py3-none-win_amd64.whl`\n",
    "\n",
    "You can find the files here: [https://github.com/plotly/Kaleido/releases/download/v0.1.0.post1/](https://github.com/plotly/Kaleido/releases/download/v0.1.0.post1/)"
   ]
  },
  {
   "cell_type": "markdown",
   "id": "34ff66a2",
   "metadata": {},
   "source": [
    "**For this notebook:**"
   ]
  },
  {
   "cell_type": "code",
   "execution_count": null,
   "id": "014eeef5",
   "metadata": {},
   "outputs": [],
   "source": [
    "# libraries\n",
    "import numpy as np\n",
    "from PIL import Image\n",
    "import matplotlib.pyplot as plt\n",
    "from IPython import display\n",
    "\n",
    "import plots # plots.py"
   ]
  },
  {
   "cell_type": "code",
   "execution_count": null,
   "id": "c59e1397",
   "metadata": {},
   "outputs": [],
   "source": [
    "# False for default visualizations\n",
    "gtsrb_exists = False # True if you've placed the gtsrb dataset in the \"./data/gtsrb/\" folder\n",
    "video_exists = False # True if you've placed a video in the \"./data/google_maps_test/video/\" folder"
   ]
  },
  {
   "cell_type": "markdown",
   "id": "96a6857c",
   "metadata": {},
   "source": [
    "# I. Introduction\n",
    "\n",
    "There are a lot of things to do and learn in the computer vision field. \n",
    "Here are some of the main tasks you can take on: Image Classification, Object Detection, Image Segmentation, Image Enhancement, Face Recognition, Visual Tracking, Image Captioning, Image Generation, 3D Reconstruction, etc. \n",
    "\n",
    "A good way to get started is to train a CNN (Convolutional Neural Network) classifier on images.\n",
    "There are a lot of datasets you can easily find like MNIST, ImageNet, CIFAR-10, Intel Image classification, etc.\n",
    "\n",
    "In these notebooks you're going to see:\n",
    "\n",
    "* How to train a pre-trained object detection model on a custom dataset with the **Detecto** Python library [https://github.com/alankbi/detecto](https://github.com/alankbi/detecto)\n",
    "* How to train a CNN and a MobileNet model with Data Augmentation on the GTSRB dataset with **Tensorflow**\n",
    "* How to visualize your predictions and create a video with boxes, predicted labels and the associated probabilities\n",
    "\n",
    "The whole idea here is to predict all the traffic signs you can have inside an image. \n",
    "\n",
    "We're going to proceed in two steps:\n",
    "* identifying traffic signs inside an image (Object Detection model)\n",
    "* determining the specific type of traffic sign of each one (Classification model)"
   ]
  },
  {
   "cell_type": "code",
   "execution_count": null,
   "id": "0c1fbeef",
   "metadata": {},
   "outputs": [],
   "source": [
    "Image.open(\"imgs/process_image.png\").convert(\"RGB\")"
   ]
  },
  {
   "cell_type": "markdown",
   "id": "52e81035",
   "metadata": {},
   "source": [
    "# II. Datasets\n",
    "\n",
    "## 1. German Traffic Sign Recognition Benchmark (GTSRB)\n",
    "\n",
    "***The German Traffic Sign Benchmark** is a multi-class, single-image classification challenge held at the International Joint Conference on Neural Networks (IJCNN) 2011* (more details here: [https://benchmark.ini.rub.de/gtsrb_news.html](https://benchmark.ini.rub.de/gtsrb_news.html)).\n",
    "\n",
    "You can download it (300 Mo) from Kaggle here: [https://www.kaggle.com/datasets/meowmeowmeowmeowmeow/gtsrb-german-traffic-sign](https://www.kaggle.com/datasets/meowmeowmeowmeowmeow/gtsrb-german-traffic-sign) \n",
    "\n",
    "<br>\n",
    "\n",
    "We're going to use this dataset to train the classification model and predict what type of traffic sign a new one could be.\n",
    "\n",
    "It contains 51,839 images and 43 classes.\n",
    "\n",
    "Here are the 43 classes illustrated with the corresponding wikipedia images:"
   ]
  },
  {
   "cell_type": "code",
   "execution_count": null,
   "id": "b7983a59",
   "metadata": {},
   "outputs": [],
   "source": [
    "plots.plot_wiki_traffic_signs_classes(ncols=8, title_size=18)"
   ]
  },
  {
   "cell_type": "markdown",
   "id": "092061d7",
   "metadata": {},
   "source": [
    "And here, random ones from the training set:"
   ]
  },
  {
   "cell_type": "code",
   "execution_count": null,
   "id": "54943318",
   "metadata": {},
   "outputs": [],
   "source": [
    "plots.plot_dataset_traffic_signs_classes(ncols=8, title_size=15, gtsrb_exists=gtsrb_exists)"
   ]
  },
  {
   "cell_type": "markdown",
   "id": "bc2bdb63",
   "metadata": {},
   "source": [
    "As you can see, these traffic signs aren't always easy to guess even for a human being (mainly due to the darkness here).\n",
    "\n",
    "Also, their dimensions vary. Let's see how:"
   ]
  },
  {
   "cell_type": "code",
   "execution_count": null,
   "id": "e36dcdb6",
   "metadata": {},
   "outputs": [],
   "source": [
    "fig, img_dimensions = plots.plot_images_dimensions_distribution(gtsrb_exists=gtsrb_exists)\n",
    "fig"
   ]
  },
  {
   "cell_type": "markdown",
   "id": "41e363d0",
   "metadata": {},
   "source": [
    "There are many images with dimensions close to 33x33 pixels, most of them square.\n",
    "\n",
    "We can say that most images (95%) have widths and heights of less than 100x100 pixels."
   ]
  },
  {
   "cell_type": "code",
   "execution_count": null,
   "id": "204b8958",
   "metadata": {},
   "outputs": [],
   "source": [
    "if gtsrb_exists:\n",
    "    img_dimensions[[\"width\", \"height\"]].quantile(.95)"
   ]
  },
  {
   "cell_type": "markdown",
   "id": "5fc75b3d",
   "metadata": {},
   "source": [
    "Let's see now the number of images per class:"
   ]
  },
  {
   "cell_type": "code",
   "execution_count": null,
   "id": "4bc7d489",
   "metadata": {},
   "outputs": [],
   "source": [
    "fig, img_per_class = plots.plot_images_number_per_class(gtsrb_exists=gtsrb_exists)\n",
    "fig"
   ]
  },
  {
   "cell_type": "markdown",
   "id": "606ef7d6",
   "metadata": {},
   "source": [
    "The distribution isn't uniform and that's not ideal.\n",
    "But anyway, the lowest number of images per class is 210 which isn't that bad and some methods exist to lower this problem like **Data Augmentation** or **resampling**."
   ]
  },
  {
   "cell_type": "markdown",
   "id": "8f6c25ff",
   "metadata": {},
   "source": [
    "## 2. Google Maps - Street View images\n",
    "\n",
    "### Training Set\n",
    "\n",
    "For the object detection model we're going to create our own dataset.\n",
    "\n",
    "As often in Machine & Deep Learning  modeling, a required condition to have an accuracte model is to have enough data. \n",
    "And enough is a lot! But fortunately there are a lot of models that have been trained for similar tasks we can use for our own task.\n",
    "\n",
    "We call them pre-trained models, and the training process: **Transfer Learning**.\n",
    "This allows us to start with a well optimized model for computer vision, train it on our custom dataset which doesn't need to be as huge as it has to be when you're starting to train a model from scratch.\n",
    "\n",
    "So the idea here is to create a dataset from street view images you can get with google maps."
   ]
  },
  {
   "cell_type": "markdown",
   "id": "03a0f12b",
   "metadata": {},
   "source": [
    "As the classification model will be trained on german traffic signs, we're going to use images from Germany.\n",
    "\n",
    "I took 92 screenshots from street view in several places where there is at least one traffic sign.\n",
    "Their dimensions are close to 1920x630 pixels.\n",
    "\n",
    "Here's an example from Rostock a city in the north of Germany:"
   ]
  },
  {
   "cell_type": "code",
   "execution_count": null,
   "id": "b2d01c7a",
   "metadata": {},
   "outputs": [],
   "source": [
    "Image.open(\"imgs/76_54.1765866,12.1010878.png\").convert(\"RGB\")"
   ]
  },
  {
   "cell_type": "markdown",
   "id": "592c959e",
   "metadata": {},
   "source": [
    "In order to have more images, and with not so standard point of views, I've randomly cropped them with the following dimensions: 720x480 pixels.\n",
    "\n",
    "You can find the corresponding function: `random_crop` in the `process_data.py` file.\n",
    "\n",
    "Here are the three ones from the image above:"
   ]
  },
  {
   "cell_type": "code",
   "execution_count": null,
   "id": "a7cedacd",
   "metadata": {},
   "outputs": [],
   "source": [
    "imgs = [np.array(Image.open(f\"data/google_maps_test/labeled_imgs/76-{i}.jpg\").convert(\"RGB\")) for i in range(3)]\n",
    "fig, axs = plt.subplots(nrows=1, ncols=3, figsize=(12,3))\n",
    "for i in range(3):\n",
    "    axs[i].imshow(imgs[i])\n",
    "    axs[i].axis(\"off\")\n",
    "plt.show()"
   ]
  },
  {
   "cell_type": "markdown",
   "id": "a63c975b",
   "metadata": {},
   "source": [
    "### Test Set\n",
    "\n",
    "In order to test the model, I recorded a video of my screen while I was moving in street view. "
   ]
  },
  {
   "cell_type": "code",
   "execution_count": null,
   "id": "72057d70",
   "metadata": {},
   "outputs": [],
   "source": [
    "display.Image(\"imgs/start_video1.gif\")"
   ]
  },
  {
   "cell_type": "markdown",
   "id": "e1e13fe0",
   "metadata": {},
   "source": [
    "Once recorded, you can split it with the detecto package:"
   ]
  },
  {
   "cell_type": "code",
   "execution_count": null,
   "id": "e303882b",
   "metadata": {},
   "outputs": [],
   "source": [
    "if video_exists:\n",
    "    from detecto.utils import split_video\n",
    "    split_video(\"data/google_maps_test/video/video.mp4\", \"data/google_maps_test/frames_decomposed_video/\", step_size=3)"
   ]
  },
  {
   "cell_type": "markdown",
   "id": "35fe9f49",
   "metadata": {},
   "source": [
    "The `step_size` argument corresponds to the number of images you want to skip.\n",
    "\n",
    "For example a `step_size` of 3 will save every third frame."
   ]
  },
  {
   "cell_type": "markdown",
   "id": "2fa1765f",
   "metadata": {},
   "source": [
    "**Note:**\n",
    "    \n",
    "1. I added black rectangles to images in order to hide google maps widgets.\n",
    "To do so, I opened an image editor like Paint and fin the four coordinates to create these rectangles.\n",
    "You can find the function I used in the `process_data.py` file: `add_black_rectangles`.\n",
    "\n",
    "2. I also defined a function in order to create gif files from a set of images, you'll find it in the `plots.py` file: `make_gif`."
   ]
  },
  {
   "cell_type": "code",
   "execution_count": null,
   "id": "32062fcf",
   "metadata": {},
   "outputs": [],
   "source": []
  }
 ],
 "metadata": {
  "kernelspec": {
   "display_name": "tf",
   "language": "python",
   "name": "tf"
  },
  "language_info": {
   "codemirror_mode": {
    "name": "ipython",
    "version": 3
   },
   "file_extension": ".py",
   "mimetype": "text/x-python",
   "name": "python",
   "nbconvert_exporter": "python",
   "pygments_lexer": "ipython3",
   "version": "3.9.18"
  }
 },
 "nbformat": 4,
 "nbformat_minor": 5
}
