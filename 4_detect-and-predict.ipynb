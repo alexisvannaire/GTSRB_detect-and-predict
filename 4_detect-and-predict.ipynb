{
 "cells": [
  {
   "cell_type": "markdown",
   "id": "c9a7bb00",
   "metadata": {},
   "source": [
    "# Traffic signs detection and classification with Detecto and Tensorflow \n",
    "\n",
    "### Part 4 - *Full Process*"
   ]
  },
  {
   "cell_type": "markdown",
   "id": "bb7e11e3",
   "metadata": {},
   "source": [
    "All the functions and visualizations I used here can be found on my GitHub page: [https://github.com/alexisvannaire/GTSRB_detect-and-predict](https://github.com/alexisvannaire/GTSRB_detect-and-predict)\n",
    "\n",
    "See the first part (1_detect-and-predict) if you need details on the packages I used."
   ]
  },
  {
   "cell_type": "markdown",
   "id": "01ef1050",
   "metadata": {},
   "source": [
    "**For this notebook:**"
   ]
  },
  {
   "cell_type": "code",
   "execution_count": null,
   "id": "7ec0b6a6",
   "metadata": {},
   "outputs": [],
   "source": [
    "# libraries\n",
    "from PIL import Image\n",
    "from IPython import display"
   ]
  },
  {
   "cell_type": "markdown",
   "id": "04b52fe6",
   "metadata": {},
   "source": [
    "# V. Full process"
   ]
  },
  {
   "cell_type": "markdown",
   "id": "0804db8e",
   "metadata": {},
   "source": [
    "Finally, let's build the full process.\n",
    "\n",
    "Given an image we want to:\n",
    "    \n",
    "* predict traffic signs with the object detection model\n",
    "* predict what traffic signs they are with the classifier model\n",
    "* display the predicted classes on the global image\n",
    "\n",
    "At the end we'll have a video with predicted classes for each detected traffic sign.\n",
    "\n",
    "The chosen **detection model** is the third using a 95% likelihood threshold.\n",
    "\n",
    "For the **classifier**, I've chosen: `MobiletNet_224-224_DA-50e`.\n",
    "\n",
    "Here's the result:"
   ]
  },
  {
   "cell_type": "code",
   "execution_count": null,
   "id": "b0f8f33e",
   "metadata": {},
   "outputs": [],
   "source": [
    "display.Image(\"imgs/chosen_frames_od3_mn120-50.gif\")"
   ]
  },
  {
   "cell_type": "markdown",
   "id": "78d7bcc8",
   "metadata": {},
   "source": [
    "The results are good!\n",
    "\n",
    "Of course there are some not detected traffic signs but it works!\n",
    "\n",
    "Also, there are signs that the classifier doesn't know.\n",
    "It has tried to predict them anyway and they often have a low probaility.\n",
    "So what we can do is to add a threshold and keep only high probability predictions.\n",
    "\n",
    "To create labeled images with the red rectangles with class names and the associate probability, see the `labeled_image_with_object_detection_and_classifier_predictions` function in the `plots.py` file.\n",
    "\n",
    "Here's the final result with a probability threshold set at 90%:"
   ]
  },
  {
   "cell_type": "code",
   "execution_count": null,
   "id": "a6cf021b",
   "metadata": {},
   "outputs": [],
   "source": [
    "display.Image(\"imgs/chosen_frames_od3_mn120-50_t90.gif\")"
   ]
  },
  {
   "cell_type": "markdown",
   "id": "6a036012",
   "metadata": {},
   "source": [
    "We keep the best predictions even if it still remains some bad ones.\n",
    "Also you can see that some \"bad\" predictions have been done on blur images and when they get clearer no predictions were displayed (surely because the classifier gave a low probability). We could add a blur detector to remove these images from predictions."
   ]
  },
  {
   "cell_type": "markdown",
   "id": "259ae67c",
   "metadata": {},
   "source": [
    "And here the predicted traffic signs:"
   ]
  },
  {
   "cell_type": "code",
   "execution_count": null,
   "id": "75b0d88f",
   "metadata": {},
   "outputs": [],
   "source": [
    "Image.open(\"imgs/dataset_full_process.png\").convert(\"RGB\")"
   ]
  },
  {
   "cell_type": "markdown",
   "id": "b6b44c0f",
   "metadata": {},
   "source": [
    "By filtering the bad ones, we can easily add them to a custom traffic signs dataset and train the classifier again in order to improve its generalization ability. Create others videos from google maps street view and maybe get an even better model."
   ]
  },
  {
   "cell_type": "markdown",
   "id": "fe6733ad",
   "metadata": {},
   "source": [
    "---"
   ]
  },
  {
   "cell_type": "markdown",
   "id": "56aae32c",
   "metadata": {},
   "source": [
    "I hope these notebooks would have help you in some ways! Feel free to look at my python files if you want to get the code of some functions, visualizations, etc.\n",
    "\n",
    "Thanks for reading and have fun :)"
   ]
  },
  {
   "cell_type": "code",
   "execution_count": null,
   "id": "f3706b94",
   "metadata": {},
   "outputs": [],
   "source": []
  }
 ],
 "metadata": {
  "kernelspec": {
   "display_name": "tf",
   "language": "python",
   "name": "tf"
  },
  "language_info": {
   "codemirror_mode": {
    "name": "ipython",
    "version": 3
   },
   "file_extension": ".py",
   "mimetype": "text/x-python",
   "name": "python",
   "nbconvert_exporter": "python",
   "pygments_lexer": "ipython3",
   "version": "3.9.18"
  }
 },
 "nbformat": 4,
 "nbformat_minor": 5
}
